{
 "cells": [
  {
   "cell_type": "markdown",
   "metadata": {
    "application/vnd.databricks.v1+cell": {
     "cellMetadata": {},
     "inputWidgets": {},
     "nuid": "97addce4-2562-486a-bc4c-2b39a8dd9756",
     "showTitle": false,
     "tableResultSettingsMap": {},
     "title": ""
    }
   },
   "source": [
    "## Generating inference data if it doesn't exist"
   ]
  },
  {
   "cell_type": "code",
   "execution_count": 0,
   "metadata": {
    "application/vnd.databricks.v1+cell": {
     "cellMetadata": {
      "byteLimit": 2048000,
      "rowLimit": 10000
     },
     "inputWidgets": {},
     "nuid": "c6242b0e-2772-410e-b7e9-b0bebe58d018",
     "showTitle": false,
     "tableResultSettingsMap": {},
     "title": ""
    }
   },
   "outputs": [],
   "source": [
    "dbutils.widgets.text(\"catalog_name\", \"btafur_catalog\")\n",
    "dbutils.widgets.text(\"schema_name\", \"default\")\n",
    "catalog_name = dbutils.widgets.get(\"catalog_name\")\n",
    "schema_name = dbutils.widgets.get(\"schema_name\")"
   ]
  },
  {
   "cell_type": "code",
   "execution_count": 0,
   "metadata": {
    "application/vnd.databricks.v1+cell": {
     "cellMetadata": {
      "byteLimit": 2048000,
      "rowLimit": 10000
     },
     "inputWidgets": {},
     "nuid": "1e892951-2eef-40d1-b3f8-0a3be588a4d9",
     "showTitle": false,
     "tableResultSettingsMap": {},
     "title": ""
    }
   },
   "outputs": [],
   "source": [
    "# Create the table with two columns: ID and review\n",
    "spark.sql(f\"CREATE OR REPLACE TABLE {catalog_name}.{schema_name}.sentences (ID INT, review STRING)\")\n",
    "\n",
    "# Insert 200 values into the table with proper movie review text\n",
    "movie_reviews = [\n",
    "    \"A thrilling masterpiece with stunning visuals.\",\n",
    "    \"An emotional rollercoaster that captivates from start to finish.\",\n",
    "    \"A lackluster plot with underwhelming performances.\",\n",
    "    \"A heartwarming tale that resonates with audiences of all ages.\",\n",
    "    \"A groundbreaking film that redefines the genre.\",\n",
    "    \"A predictable storyline with clichéd characters.\",\n",
    "    \"A visually stunning film with a compelling narrative.\",\n",
    "    \"An inspiring story of hope and resilience.\",\n",
    "    \"A forgettable movie with a weak script.\",\n",
    "    \"A charming and delightful film that entertains throughout.\"\n",
    "]\n",
    "\n",
    "# Repeat the reviews to fill 200 entries\n",
    "reviews_to_insert = (movie_reviews * (200 // len(movie_reviews) + 1))[:200]\n",
    "\n",
    "spark.sql(f\"INSERT INTO {catalog_name}.{schema_name}.sentences (ID, review) VALUES\" + \", \".join([f\"({i}, '{reviews_to_insert[i-1]}')\" for i in range(1, 201)]) + \";\")"
   ]
  },
  {
   "cell_type": "code",
   "execution_count": 0,
   "metadata": {
    "application/vnd.databricks.v1+cell": {
     "cellMetadata": {
      "byteLimit": 2048000,
      "rowLimit": 10000
     },
     "inputWidgets": {},
     "nuid": "34cc0494-a537-4e1d-933e-a123da2d70b2",
     "showTitle": false,
     "tableResultSettingsMap": {},
     "title": ""
    }
   },
   "outputs": [],
   "source": [
    "display(spark.read.table(f\"{catalog_name}.{schema_name}.sentences\"))"
   ]
  },
  {
   "cell_type": "markdown",
   "metadata": {
    "application/vnd.databricks.v1+cell": {
     "cellMetadata": {},
     "inputWidgets": {},
     "nuid": "a2ef7511-a2d9-4259-b890-fda7a99182e8",
     "showTitle": false,
     "tableResultSettingsMap": {},
     "title": ""
    }
   },
   "source": [
    "## Generating labelled data if it doesn't exist"
   ]
  },
  {
   "cell_type": "code",
   "execution_count": 0,
   "metadata": {
    "application/vnd.databricks.v1+cell": {
     "cellMetadata": {
      "byteLimit": 2048000,
      "rowLimit": 10000
     },
     "inputWidgets": {},
     "nuid": "9d9f0618-fa45-4541-a0ed-b50cfe5257a6",
     "showTitle": false,
     "tableResultSettingsMap": {},
     "title": ""
    }
   },
   "outputs": [],
   "source": [
    "# Create the labelled table with an additional sentiment column\n",
    "spark.sql(f\"CREATE OR REPLACE TABLE {catalog_name}.{schema_name}.labelled_sentences AS SELECT ID,  review, ai_analyze_sentiment(review) AS sentiment FROM {catalog_name}.{schema_name}.sentences\")\n",
    "\n",
    "# Display the new table\n",
    "display(spark.read.table(f\"{catalog_name}.{schema_name}.labelled_sentences\"))\n"
   ]
  }
 ],
 "metadata": {
  "application/vnd.databricks.v1+notebook": {
   "computePreferences": null,
   "dashboards": [],
   "environmentMetadata": {
    "base_environment": "",
    "environment_version": "3"
   },
   "inputWidgetPreferences": null,
   "language": "python",
   "notebookMetadata": {
    "pythonIndentUnit": 2
   },
   "notebookName": "model_preprocessing",
   "widgets": {
    "catalog_name": {
     "currentValue": "btafur_catalog",
     "nuid": "c27b5912-2ca9-46c0-ae51-7f7dcf693134",
     "typedWidgetInfo": {
      "autoCreated": false,
      "defaultValue": "btafur_catalog",
      "label": null,
      "name": "catalog_name",
      "options": {
       "widgetDisplayType": "Text",
       "validationRegex": null
      },
      "parameterDataType": "String"
     },
     "widgetInfo": {
      "widgetType": "text",
      "defaultValue": "btafur_catalog",
      "label": null,
      "name": "catalog_name",
      "options": {
       "widgetType": "text",
       "autoCreated": null,
       "validationRegex": null
      }
     }
    },
    "schema_name": {
     "currentValue": "default",
     "nuid": "25f2fe7e-e320-4793-a8cb-2fe969ec7d13",
     "typedWidgetInfo": {
      "autoCreated": false,
      "defaultValue": "default",
      "label": null,
      "name": "schema_name",
      "options": {
       "widgetDisplayType": "Text",
       "validationRegex": null
      },
      "parameterDataType": "String"
     },
     "widgetInfo": {
      "widgetType": "text",
      "defaultValue": "default",
      "label": null,
      "name": "schema_name",
      "options": {
       "widgetType": "text",
       "autoCreated": false,
       "validationRegex": null
      }
     }
    }
   }
  },
  "language_info": {
   "name": "python"
  }
 },
 "nbformat": 4,
 "nbformat_minor": 0
}
