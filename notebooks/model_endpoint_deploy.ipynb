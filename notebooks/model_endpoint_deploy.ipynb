{
 "cells": [
  {
   "cell_type": "code",
   "execution_count": 0,
   "metadata": {
    "application/vnd.databricks.v1+cell": {
     "cellMetadata": {},
     "inputWidgets": {},
     "nuid": "28525745-4fb6-4667-92f1-1e0e3fa68da1",
     "showTitle": false,
     "tableResultSettingsMap": {},
     "title": ""
    }
   },
   "outputs": [],
   "source": [
    "%pip install -U -qqqq mlflow databricks-openai databricks-agents\n",
    "dbutils.library.restartPython()"
   ]
  },
  {
   "cell_type": "code",
   "execution_count": 0,
   "metadata": {
    "application/vnd.databricks.v1+cell": {
     "cellMetadata": {},
     "inputWidgets": {},
     "nuid": "b2519e1e-ef7e-439c-ab55-5c17e77c8b25",
     "showTitle": false,
     "tableResultSettingsMap": {},
     "title": ""
    }
   },
   "outputs": [],
   "source": [
    "dbutils.widgets.text(\"catalog_name\", \"btafur_catalog\")\n",
    "dbutils.widgets.text(\"schema_name\", \"default\")\n",
    "dbutils.widgets.text(\"model_name\", \"quickstart_agent\")\n",
    "\n",
    "catalog_name = dbutils.widgets.get(\"catalog_name\")\n",
    "schema_name = dbutils.widgets.get(\"schema_name\")\n",
    "model_name = dbutils.widgets.get(\"model_name\")\n",
    "dbutils.widgets.text(\"experiment_name\", f\"/Users/{dbutils.notebook.entry_point.getDbutils().notebook().getContext().userName().get()}/{model_name}_{catalog_name}\")\n",
    "experiment_name = dbutils.widgets.get(\"experiment_name\")\n",
    "\n",
    "import mlflow\n",
    "\n",
    "mlflow.set_experiment(experiment_name)\n",
    "\n",
    "registered_model_name = f\"{catalog_name}.{schema_name}.{model_name}\""
   ]
  },
  {
   "cell_type": "code",
   "execution_count": 0,
   "metadata": {
    "application/vnd.databricks.v1+cell": {
     "cellMetadata": {},
     "inputWidgets": {},
     "nuid": "b2a5f820-740b-4e9d-8496-4b54c3350156",
     "showTitle": false,
     "tableResultSettingsMap": {},
     "title": ""
    }
   },
   "outputs": [],
   "source": [
    "#https://docs.databricks.com/aws/en/generative-ai/agent-framework/deploy-agent#deploy-an-agent-using-deploy\n",
    "\n",
    "from mlflow import MlflowClient\n",
    "from databricks.agents import get_deployments, delete_deployment\n",
    "from databricks import agents\n",
    "\n",
    "client = MlflowClient()\n",
    "\n",
    "registered_model_version = client.get_model_version_by_alias(registered_model_name, \"Champion\")\n",
    "\n",
    "deployments = get_deployments(model_name=registered_model_name)\n",
    "\n",
    "latest_version = registered_model_version.version\n",
    "\n",
    "for deployment in deployments:\n",
    "    if deployment.model_name == registered_model_name:\n",
    "        print(f\"Deleting deployment: model={deployment.model_name}, version={deployment.model_version}\")\n",
    "        delete_deployment(model_name=deployment.model_name, model_version=deployment.model_version)\n",
    "\n",
    "\n",
    "deployment_info = agents.deploy(\n",
    "    model_name=registered_model_name,\n",
    "    model_version=registered_model_version.version,\n",
    ")"
   ]
  }
 ],
 "metadata": {
  "application/vnd.databricks.v1+notebook": {
   "computePreferences": null,
   "dashboards": [],
   "environmentMetadata": {
    "base_environment": "",
    "environment_version": "3"
   },
   "inputWidgetPreferences": null,
   "language": "python",
   "notebookMetadata": {
    "pythonIndentUnit": 2
   },
   "notebookName": "model_endpoint_deploy",
   "widgets": {}
  },
  "language_info": {
   "name": "python"
  }
 },
 "nbformat": 4,
 "nbformat_minor": 0
}
